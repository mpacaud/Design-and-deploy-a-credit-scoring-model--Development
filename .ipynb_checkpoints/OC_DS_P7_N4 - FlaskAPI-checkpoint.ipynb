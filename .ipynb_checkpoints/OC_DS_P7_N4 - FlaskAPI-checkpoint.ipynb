{
 "cells": [
  {
   "cell_type": "markdown",
   "metadata": {},
   "source": [
    "# Projet 7 - Implementation of a scoring model\n",
    "# Notebook - Flask API"
   ]
  },
  {
   "cell_type": "markdown",
   "metadata": {},
   "source": [
    "# Context\n",
    "\n",
    "\n"
   ]
  },
  {
   "cell_type": "markdown",
   "metadata": {},
   "source": [
    "# Data sources\n",
    "\n",
    "The webpage containing all data and descriptions: <a href=\"https://www.kaggle.com/c/home-credit-default-risk/data\" target=\"_blank\">here</a>."
   ]
  },
  {
   "cell_type": "markdown",
   "metadata": {},
   "source": [
    "# Glossary"
   ]
  },
  {
   "cell_type": "markdown",
   "metadata": {},
   "source": [
    "__- TP:__ True positives correspond to customers which are classified as they would default the repayment of their loan and they would as expected.<br>\n",
    "__- FP:__ False positives correspond to customers which were guessed trustless to repay their loans whereas they would have to (Secondary case to avoid and minimize if possible).<br>\n",
    "__- FN:__ False negatives correspond to customers which were guessed trustful to repay their loans whereas they will not (Worst case to absolutly minimize).<br>\n",
    "__- TN:__ True negatives correspond to customers which are classified as they would not default the repayment of their loan and they don't as expected.<br>\n",
    "__- dt_sp:__ Data sampling.<br>\n",
    "__- wt:__ Weight.<br>\n",
    "__- opt:__ Optimal.<br>\n",
    "__- synth_sp:__ Synthetic sampling.<br>\n"
   ]
  },
  {
   "cell_type": "markdown",
   "metadata": {},
   "source": [
    "# I) Importation of the dataset into a pandas dataframe"
   ]
  },
  {
   "cell_type": "markdown",
   "metadata": {},
   "source": [
    "## 1) Import all librairies and tools required to realize the project and set the first global variables"
   ]
  },
  {
   "cell_type": "code",
   "execution_count": 1,
   "metadata": {},
   "outputs": [],
   "source": [
    "### Librairies and tools to import ###\n",
    "\n",
    "# File system management.\n",
    "import os.path\n",
    "\n",
    "# Data manipulations.\n",
    "import numpy as np\n",
    "import pandas as pd\n",
    "\n",
    "# Time measurment and datetime management.\n",
    "import datetime as dt\n",
    "#import time\n",
    "from time import time\n",
    "\n",
    "# Python random sampling.\n",
    "from random import sample as py_rd_sp\n",
    "\n",
    "# Warnings suppression.\n",
    "import warnings\n",
    "warnings.filterwarnings('ignore')\n",
    "\n",
    "# Data visualizations.\n",
    "from pprint import pprint\n",
    "#from pandas.plotting import scatter_matrix\n",
    "import matplotlib.pyplot as plt\n",
    "import seaborn as sns\n",
    "\n",
    "# Warnings management.\n",
    "import warnings\n",
    "warnings.simplefilter(action='ignore', category=FutureWarning)\n",
    "\n",
    "# Saving full data.\n",
    "from numpy import set_printoptions\n",
    "\n",
    "\n",
    "### Set default figure parameters for the whole notebook ###\n",
    "\n",
    "# Default parameters for matplotlib's figures.\n",
    "plt.rcParams['figure.figsize'] = [6,6]\n",
    "plt.rcParams['figure.dpi'] = 200\n",
    "#mpl.rcParams['axes.prop_cycle'] = cycler(color=['b', 'r', 'g'])\n",
    "plt.rcParams['axes.spines.right'] = False\n",
    "plt.rcParams['axes.spines.top'] = False\n",
    "plt.rcParams['xtick.bottom'] = True\n",
    "plt.rcParams['ytick.left'] = True\n",
    "\n",
    "# Default parameters of seaborn's figures.\n",
    "sns.set_style('white') # NB: Needs to be above sns.set_theme to properly attend custom_params.\n",
    "custom_params = {'axes.spines.right': False, 'axes.spines.top': False}\n",
    "sns.set_theme(style='ticks', palette='deep', rc=custom_params)\n",
    "\n",
    "\n",
    "# Global file paths.\n",
    "#EXPORTS_DIR_PATH = 'Exports'\n",
    "EXPORTS_MODELS_DIR_PATH = r'Exports\\Models\\Tried'\n",
    "IMPORTS_DIR_PATH = r'Exports\\Preprocessed_data'\n",
    "\n",
    "CSV_MODELS_FILE = 'models_info.csv'\n",
    "PKL_MODELS_FILE = 'models_info.pkl'\n",
    "#JSON_MODELS_FILE = 'models_info.json'\n",
    "#DATASETS_DIR_PATH = r'D:\\0Partage\\MP-P2PNet\\MP-Sync\\MP-Sync_Pro\\Info\\OC_DS\\Projet 7\\Datasets' #os.path.join('D:', '0Partage', 'MP-P2PNet', 'MP-Sync', 'MP-Sync_Pro', 'Info', 'OC_DS', 'Projet 7', 'Datasets')"
   ]
  },
  {
   "cell_type": "code",
   "execution_count": 2,
   "metadata": {},
   "outputs": [],
   "source": [
    "def display_EZ (x, max_rows = 100, max_cols = 100, max_colwidth = 100):\n",
    "    \n",
    "    \"\"\"\n",
    "    Description\n",
    "    -----------\n",
    "    Allows to display pandas dataframes with the number of rows and columns whished in an easy manner.\n",
    "    \n",
    "    Parameters\n",
    "    ----------\n",
    "    df: pandas.DataFrame()\n",
    "        Dataframe to display.\n",
    "    max_rows: int\n",
    "        Maximum number of rows to display.\n",
    "    max_cols: int\n",
    "        Maximum number of columns to display.\n",
    "    max_colwidth: int\n",
    "        Maximum width of each column.\n",
    "        \n",
    "    \"\"\"\n",
    "    \n",
    "    with pd.option_context('display.max_rows', max_rows, 'display.max_columns', max_cols, 'display.max_colwidth', max_colwidth):\n",
    "        display(x)"
   ]
  },
  {
   "cell_type": "code",
   "execution_count": 3,
   "metadata": {},
   "outputs": [],
   "source": [
    "def df_to_csv_full (df):\n",
    "    \n",
    "    # Set the numpy array number of items cutting threshold to a very high number and avoid the cut.\n",
    "    set_printoptions(threshold=1e100, linewidth=1e100)\n",
    "    \n",
    "    # Save the df to a csv file.\n",
    "    df.to_csv(os.path.join(EXPORTS_MODELS_DIR_PATH, CSV_MODELS_FILE))\n",
    "    \n",
    "    # Reset the numpy array number of items cutting threshold to default.\n",
    "    set_printoptions(threshold=100, linewidth=25)"
   ]
  },
  {
   "cell_type": "markdown",
   "metadata": {},
   "source": [
    "# API Flask"
   ]
  },
  {
   "cell_type": "code",
   "execution_count": 1,
   "metadata": {},
   "outputs": [],
   "source": [
    "from flask import Flask\n",
    "#from .views import app"
   ]
  },
  {
   "cell_type": "code",
   "execution_count": 2,
   "metadata": {
    "scrolled": true
   },
   "outputs": [
    {
     "name": "stdout",
     "output_type": "stream",
     "text": [
      " * Serving Flask app '__main__'\n",
      " * Debug mode: off\n"
     ]
    },
    {
     "name": "stderr",
     "output_type": "stream",
     "text": [
      "WARNING: This is a development server. Do not use it in a production deployment. Use a production WSGI server instead.\n",
      " * Running on http://127.0.0.1:5000\n",
      "Press CTRL+C to quit\n"
     ]
    }
   ],
   "source": [
    "from flask import Flask\n",
    "\n",
    "app = Flask(__name__)\n",
    "\n",
    "@app.route('/api/flask/')\n",
    "def index():\n",
    "    return \"Hello world !\"\n",
    "\n",
    "if __name__ == \"__main__\":\n",
    "    app.run()"
   ]
  },
  {
   "cell_type": "code",
   "execution_count": 59,
   "metadata": {},
   "outputs": [
    {
     "ename": "NameError",
     "evalue": "name 'app' is not defined",
     "output_type": "error",
     "traceback": [
      "\u001b[1;31m---------------------------------------------------------------------------\u001b[0m",
      "\u001b[1;31mNameError\u001b[0m                                 Traceback (most recent call last)",
      "Cell \u001b[1;32mIn[59], line 1\u001b[0m\n\u001b[1;32m----> 1\u001b[0m \u001b[38;5;129m@app\u001b[39m\u001b[38;5;241m.\u001b[39mroute(\u001b[38;5;124m'\u001b[39m\u001b[38;5;124m/api/flask/\u001b[39m\u001b[38;5;124m'\u001b[39m)\n\u001b[0;32m      2\u001b[0m \u001b[38;5;28;01mdef\u001b[39;00m \u001b[38;5;21mapi_flask\u001b[39m ():\n\u001b[0;32m      3\u001b[0m     \u001b[38;5;28;01mpass\u001b[39;00m \u001b[38;5;66;03m# ligne temporaire\u001b[39;00m\n",
      "\u001b[1;31mNameError\u001b[0m: name 'app' is not defined"
     ]
    }
   ],
   "source": [
    "@app.route('/api/flask/')\n",
    "def api_flask ():\n",
    "    pass # ligne temporaire"
   ]
  },
  {
   "cell_type": "code",
   "execution_count": null,
   "metadata": {},
   "outputs": [],
   "source": []
  }
 ],
 "metadata": {
  "kernelspec": {
   "display_name": "Python 3 (ipykernel)",
   "language": "python",
   "name": "python3"
  },
  "language_info": {
   "codemirror_mode": {
    "name": "ipython",
    "version": 3
   },
   "file_extension": ".py",
   "mimetype": "text/x-python",
   "name": "python",
   "nbconvert_exporter": "python",
   "pygments_lexer": "ipython3",
   "version": "3.9.16"
  },
  "toc": {
   "base_numbering": 1,
   "nav_menu": {
    "height": "544px",
    "width": "676px"
   },
   "number_sections": true,
   "sideBar": true,
   "skip_h1_title": false,
   "title_cell": "Table of Contents",
   "title_sidebar": "Contents",
   "toc_cell": false,
   "toc_position": {},
   "toc_section_display": true,
   "toc_window_display": false
  }
 },
 "nbformat": 4,
 "nbformat_minor": 4
}
